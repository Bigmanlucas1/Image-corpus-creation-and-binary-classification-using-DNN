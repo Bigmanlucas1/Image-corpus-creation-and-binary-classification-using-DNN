{
 "cells": [
  {
   "cell_type": "code",
   "execution_count": 3,
   "id": "5db3940d",
   "metadata": {},
   "outputs": [],
   "source": [
    "import os\n",
    "import cv2\n",
    "import numpy as np\n",
    "from keras.models import Sequential\n",
    "from keras.layers import Dense, Flatten\n",
    "from keras.optimizers import Adam\n"
   ]
  },
  {
   "cell_type": "code",
   "execution_count": 10,
   "id": "cd36f6d1",
   "metadata": {},
   "outputs": [],
   "source": [
    "barn_owl_folder = \"C:/Users/2mscdsa09/Desktop/owl\"\n",
    "similar_images_folder = 'C:/Users/2mscdsa09/Desktop/apple'"
   ]
  },
  {
   "cell_type": "code",
   "execution_count": 11,
   "id": "2a5cdedf",
   "metadata": {},
   "outputs": [],
   "source": [
    "images = []\n",
    "labels = []\n",
    "\n",
    "# Read barn owl images\n",
    "for filename in os.listdir(barn_owl_folder):\n",
    "    if not filename.endswith(('.jpg', '.jpeg', '.png')):\n",
    "        continue\n",
    "    \n",
    "    image_path = os.path.join(barn_owl_folder, filename)\n",
    "    image = cv2.imread(image_path)\n",
    "    image = cv2.resize(image, (64, 64))\n",
    "    image = image / 255.0\n",
    "    \n",
    "    images.append(image)\n",
    "    labels.append(0)  # Label 0 for barn owls\n"
   ]
  },
  {
   "cell_type": "code",
   "execution_count": 12,
   "id": "235b8494",
   "metadata": {},
   "outputs": [],
   "source": [
    "# Read similar images\n",
    "for filename in os.listdir(similar_images_folder):\n",
    "    if not filename.endswith(('.jpg', '.jpeg', '.png')):\n",
    "        continue\n",
    "    \n",
    "    image_path = os.path.join(similar_images_folder, filename)\n",
    "    image = cv2.imread(image_path)\n",
    "    image = cv2.resize(image, (64, 64))\n",
    "    image = image / 255.0\n",
    "    \n",
    "    images.append(image)\n",
    "    labels.append(1)  # Label 1 for similar images"
   ]
  },
  {
   "cell_type": "code",
   "execution_count": 13,
   "id": "748ddd81",
   "metadata": {},
   "outputs": [],
   "source": [
    "# Convert the lists to numpy arrays\n",
    "images = np.array(images)\n",
    "labels = np.array(labels)"
   ]
  },
  {
   "cell_type": "code",
   "execution_count": 14,
   "id": "7c2c8300",
   "metadata": {},
   "outputs": [],
   "source": [
    "# Define the model\n",
    "model = Sequential()\n",
    "model.add(Flatten(input_shape=(64, 64, 3)))\n",
    "model.add(Dense(64, activation='relu'))\n",
    "model.add(Dense(1, activation='sigmoid'))"
   ]
  },
  {
   "cell_type": "code",
   "execution_count": 15,
   "id": "825576d9",
   "metadata": {},
   "outputs": [],
   "source": [
    "# Compile the model\n",
    "model.compile(optimizer=Adam(learning_rate=0.001), loss='binary_crossentropy', metrics=['accuracy'])"
   ]
  },
  {
   "cell_type": "code",
   "execution_count": 16,
   "id": "d9d367fa",
   "metadata": {},
   "outputs": [
    {
     "name": "stdout",
     "output_type": "stream",
     "text": [
      "Epoch 1/10\n",
      "1/1 [==============================] - 3s 3s/step - loss: 0.7447 - accuracy: 0.5000\n",
      "Epoch 2/10\n",
      "1/1 [==============================] - 0s 50ms/step - loss: 14.5377 - accuracy: 0.5556\n",
      "Epoch 3/10\n",
      "1/1 [==============================] - 0s 18ms/step - loss: 4.3211 - accuracy: 0.5556\n",
      "Epoch 4/10\n",
      "1/1 [==============================] - 0s 8ms/step - loss: 2.8022 - accuracy: 0.4444\n",
      "Epoch 5/10\n",
      "1/1 [==============================] - 0s 12ms/step - loss: 2.8947 - accuracy: 0.4444\n",
      "Epoch 6/10\n",
      "1/1 [==============================] - 0s 8ms/step - loss: 2.3874 - accuracy: 0.4444\n",
      "Epoch 7/10\n",
      "1/1 [==============================] - 0s 8ms/step - loss: 1.5736 - accuracy: 0.4444\n",
      "Epoch 8/10\n",
      "1/1 [==============================] - 0s 11ms/step - loss: 1.0483 - accuracy: 0.4444\n",
      "Epoch 9/10\n",
      "1/1 [==============================] - 0s 9ms/step - loss: 0.8817 - accuracy: 0.4444\n",
      "Epoch 10/10\n",
      "1/1 [==============================] - 0s 8ms/step - loss: 0.7482 - accuracy: 0.4444\n"
     ]
    },
    {
     "data": {
      "text/plain": [
       "<keras.callbacks.History at 0x2597bdc2c80>"
      ]
     },
     "execution_count": 16,
     "metadata": {},
     "output_type": "execute_result"
    }
   ],
   "source": [
    "# Train the model\n",
    "model.fit(images, labels, epochs=10, batch_size=32)"
   ]
  },
  {
   "cell_type": "code",
   "execution_count": 17,
   "id": "53cb6361",
   "metadata": {},
   "outputs": [
    {
     "name": "stdout",
     "output_type": "stream",
     "text": [
      "1/1 [==============================] - 0s 131ms/step\n"
     ]
    }
   ],
   "source": [
    "# Create the image corpus (predict class labels for all images)\n",
    "image_corpus = model.predict(images)"
   ]
  },
  {
   "cell_type": "code",
   "execution_count": 18,
   "id": "3121fcdc",
   "metadata": {},
   "outputs": [],
   "source": [
    "# Save the image corpus and labels\n",
    "np.save('image_corpus.npy', image_corpus)\n",
    "np.save('labels.npy', labels)\n"
   ]
  },
  {
   "cell_type": "code",
   "execution_count": 19,
   "id": "a809fe6f",
   "metadata": {},
   "outputs": [
    {
     "name": "stdout",
     "output_type": "stream",
     "text": [
      "Image Corpus shape: (18, 1)\n",
      "Image Corpus:\n",
      "[[0.54886806]\n",
      " [0.5354678 ]\n",
      " [0.5491303 ]\n",
      " [0.5677061 ]\n",
      " [0.550068  ]\n",
      " [0.52372587]\n",
      " [0.5308342 ]\n",
      " [0.5455766 ]\n",
      " [0.55411303]\n",
      " [0.55990237]\n",
      " [0.5908376 ]\n",
      " [0.594258  ]\n",
      " [0.5926563 ]\n",
      " [0.5691223 ]\n",
      " [0.6011374 ]\n",
      " [0.58412766]\n",
      " [0.60285765]\n",
      " [0.6070214 ]]\n",
      "\n",
      "Labels shape: (18,)\n",
      "Labels:\n",
      "[0 0 0 0 0 0 0 0 0 0 1 1 1 1 1 1 1 1]\n"
     ]
    }
   ],
   "source": [
    "# Load the image corpus and labels\n",
    "image_corpus = np.load('image_corpus.npy')\n",
    "labels = np.load('labels.npy')\n",
    "\n",
    "# Print the shapes and contents of the loaded arrays\n",
    "print(\"Image Corpus shape:\", image_corpus.shape)\n",
    "print(\"Image Corpus:\")\n",
    "print(image_corpus)\n",
    "\n",
    "print(\"\\nLabels shape:\", labels.shape)\n",
    "print(\"Labels:\")\n",
    "print(labels)\n"
   ]
  },
  {
   "cell_type": "code",
   "execution_count": null,
   "id": "2304508a",
   "metadata": {},
   "outputs": [],
   "source": []
  }
 ],
 "metadata": {
  "kernelspec": {
   "display_name": "Python 3 (ipykernel)",
   "language": "python",
   "name": "python3"
  },
  "language_info": {
   "codemirror_mode": {
    "name": "ipython",
    "version": 3
   },
   "file_extension": ".py",
   "mimetype": "text/x-python",
   "name": "python",
   "nbconvert_exporter": "python",
   "pygments_lexer": "ipython3",
   "version": "3.10.12"
  }
 },
 "nbformat": 4,
 "nbformat_minor": 5
}
